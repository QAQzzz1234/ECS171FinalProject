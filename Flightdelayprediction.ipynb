{
 "cells": [
  {
   "cell_type": "markdown",
   "source": [
    "### Download Data File"
   ],
   "metadata": {
    "collapsed": false
   }
  },
  {
   "cell_type": "code",
   "execution_count": 3,
   "outputs": [
    {
     "name": "stderr",
     "output_type": "stream",
     "text": [
      "'wget' 不是内部或外部命令，也不是可运行的程序\n",
      "或批处理文件。\n",
      "'unzip' 不是内部或外部命令，也不是可运行的程序\n",
      "或批处理文件。\n",
      "'wget' 不是内部或外部命令，也不是可运行的程序\n",
      "或批处理文件。\n",
      "'unzip' 不是内部或外部命令，也不是可运行的程序\n",
      "或批处理文件。\n"
     ]
    }
   ],
   "source": [
    "import platform\n",
    "mysystem = platform.system()\n",
    "file_download_link = [\"https://www.kaggle.com/datasets/usdot/flight-delays/download?datasetVersionNumber=1\",\"https://www.kaggle.com/datasets/yuanyuwendymu/airline-delay-and-cancellation-data-2009-2018/download?datasetVersionNumber=1\"]\n",
    "\n",
    "if mysystem != 'Wiindows':\n",
    "    for download_link in file_download_link:\n",
    "        !wget -O data.zip --no-check-certificate \"download_link\"\n",
    "        !unzip data.zip\n"
   ],
   "metadata": {
    "collapsed": false
   }
  },
  {
   "cell_type": "markdown",
   "source": [
    "Please download the data using the following link if the code does not work:\n",
    "https://www.kaggle.com/datasets/usdot/flight-delays/download?datasetVersionNumber=1\n",
    "https://www.kaggle.com/datasets/yuanyuwendymu/airline-delay-and-cancellation-data-2009-2018/download?datasetVersionNumber=1\n"
   ],
   "metadata": {
    "collapsed": false
   }
  },
  {
   "cell_type": "markdown",
   "source": [
    "### Environment Setup"
   ],
   "metadata": {
    "collapsed": false
   }
  },
  {
   "cell_type": "code",
   "execution_count": null,
   "outputs": [],
   "source": [],
   "metadata": {
    "collapsed": false
   }
  },
  {
   "cell_type": "markdown",
   "source": [
    "### Data Evaluation"
   ],
   "metadata": {
    "collapsed": false
   }
  },
  {
   "cell_type": "code",
   "execution_count": 6,
   "outputs": [
    {
     "name": "stderr",
     "output_type": "stream",
     "text": [
      "C:\\Users\\10172\\AppData\\Local\\Temp\\ipykernel_23052\\1885533296.py:8: DtypeWarning: Columns (7,8) have mixed types. Specify dtype option on import or set low_memory=False.\n",
      "  flights = pd.read_csv(\"flights.csv\")\n"
     ]
    },
    {
     "data": {
      "text/plain": "   IATA_CODE                       AIRLINE\n0         UA         United Air Lines Inc.\n1         AA        American Airlines Inc.\n2         US               US Airways Inc.\n3         F9        Frontier Airlines Inc.\n4         B6               JetBlue Airways\n5         OO         Skywest Airlines Inc.\n6         AS          Alaska Airlines Inc.\n7         NK              Spirit Air Lines\n8         WN        Southwest Airlines Co.\n9         DL          Delta Air Lines Inc.\n10        EV   Atlantic Southeast Airlines\n11        HA        Hawaiian Airlines Inc.\n12        MQ  American Eagle Airlines Inc.\n13        VX                Virgin America",
      "text/html": "<div>\n<style scoped>\n    .dataframe tbody tr th:only-of-type {\n        vertical-align: middle;\n    }\n\n    .dataframe tbody tr th {\n        vertical-align: top;\n    }\n\n    .dataframe thead th {\n        text-align: right;\n    }\n</style>\n<table border=\"1\" class=\"dataframe\">\n  <thead>\n    <tr style=\"text-align: right;\">\n      <th></th>\n      <th>IATA_CODE</th>\n      <th>AIRLINE</th>\n    </tr>\n  </thead>\n  <tbody>\n    <tr>\n      <th>0</th>\n      <td>UA</td>\n      <td>United Air Lines Inc.</td>\n    </tr>\n    <tr>\n      <th>1</th>\n      <td>AA</td>\n      <td>American Airlines Inc.</td>\n    </tr>\n    <tr>\n      <th>2</th>\n      <td>US</td>\n      <td>US Airways Inc.</td>\n    </tr>\n    <tr>\n      <th>3</th>\n      <td>F9</td>\n      <td>Frontier Airlines Inc.</td>\n    </tr>\n    <tr>\n      <th>4</th>\n      <td>B6</td>\n      <td>JetBlue Airways</td>\n    </tr>\n    <tr>\n      <th>5</th>\n      <td>OO</td>\n      <td>Skywest Airlines Inc.</td>\n    </tr>\n    <tr>\n      <th>6</th>\n      <td>AS</td>\n      <td>Alaska Airlines Inc.</td>\n    </tr>\n    <tr>\n      <th>7</th>\n      <td>NK</td>\n      <td>Spirit Air Lines</td>\n    </tr>\n    <tr>\n      <th>8</th>\n      <td>WN</td>\n      <td>Southwest Airlines Co.</td>\n    </tr>\n    <tr>\n      <th>9</th>\n      <td>DL</td>\n      <td>Delta Air Lines Inc.</td>\n    </tr>\n    <tr>\n      <th>10</th>\n      <td>EV</td>\n      <td>Atlantic Southeast Airlines</td>\n    </tr>\n    <tr>\n      <th>11</th>\n      <td>HA</td>\n      <td>Hawaiian Airlines Inc.</td>\n    </tr>\n    <tr>\n      <th>12</th>\n      <td>MQ</td>\n      <td>American Eagle Airlines Inc.</td>\n    </tr>\n    <tr>\n      <th>13</th>\n      <td>VX</td>\n      <td>Virgin America</td>\n    </tr>\n  </tbody>\n</table>\n</div>"
     },
     "metadata": {},
     "output_type": "display_data"
    },
    {
     "data": {
      "text/plain": "    IATA_CODE                              AIRPORT  \\\n0         ABE  Lehigh Valley International Airport   \n1         ABI             Abilene Regional Airport   \n2         ABQ    Albuquerque International Sunport   \n3         ABR            Aberdeen Regional Airport   \n4         ABY   Southwest Georgia Regional Airport   \n..        ...                                  ...   \n317       WRG                     Wrangell Airport   \n318       WYS               Westerly State Airport   \n319       XNA  Northwest Arkansas Regional Airport   \n320       YAK                      Yakutat Airport   \n321       YUM           Yuma International Airport   \n\n                               CITY STATE COUNTRY  LATITUDE  LONGITUDE  \n0                         Allentown    PA     USA  40.65236  -75.44040  \n1                           Abilene    TX     USA  32.41132  -99.68190  \n2                       Albuquerque    NM     USA  35.04022 -106.60919  \n3                          Aberdeen    SD     USA  45.44906  -98.42183  \n4                            Albany    GA     USA  31.53552  -84.19447  \n..                              ...   ...     ...       ...        ...  \n317                        Wrangell    AK     USA  56.48433 -132.36982  \n318                West Yellowstone    MT     USA  44.68840 -111.11764  \n319  Fayetteville/Springdale/Rogers    AR     USA  36.28187  -94.30681  \n320                         Yakutat    AK     USA  59.50336 -139.66023  \n321                            Yuma    AZ     USA  32.65658 -114.60597  \n\n[322 rows x 7 columns]",
      "text/html": "<div>\n<style scoped>\n    .dataframe tbody tr th:only-of-type {\n        vertical-align: middle;\n    }\n\n    .dataframe tbody tr th {\n        vertical-align: top;\n    }\n\n    .dataframe thead th {\n        text-align: right;\n    }\n</style>\n<table border=\"1\" class=\"dataframe\">\n  <thead>\n    <tr style=\"text-align: right;\">\n      <th></th>\n      <th>IATA_CODE</th>\n      <th>AIRPORT</th>\n      <th>CITY</th>\n      <th>STATE</th>\n      <th>COUNTRY</th>\n      <th>LATITUDE</th>\n      <th>LONGITUDE</th>\n    </tr>\n  </thead>\n  <tbody>\n    <tr>\n      <th>0</th>\n      <td>ABE</td>\n      <td>Lehigh Valley International Airport</td>\n      <td>Allentown</td>\n      <td>PA</td>\n      <td>USA</td>\n      <td>40.65236</td>\n      <td>-75.44040</td>\n    </tr>\n    <tr>\n      <th>1</th>\n      <td>ABI</td>\n      <td>Abilene Regional Airport</td>\n      <td>Abilene</td>\n      <td>TX</td>\n      <td>USA</td>\n      <td>32.41132</td>\n      <td>-99.68190</td>\n    </tr>\n    <tr>\n      <th>2</th>\n      <td>ABQ</td>\n      <td>Albuquerque International Sunport</td>\n      <td>Albuquerque</td>\n      <td>NM</td>\n      <td>USA</td>\n      <td>35.04022</td>\n      <td>-106.60919</td>\n    </tr>\n    <tr>\n      <th>3</th>\n      <td>ABR</td>\n      <td>Aberdeen Regional Airport</td>\n      <td>Aberdeen</td>\n      <td>SD</td>\n      <td>USA</td>\n      <td>45.44906</td>\n      <td>-98.42183</td>\n    </tr>\n    <tr>\n      <th>4</th>\n      <td>ABY</td>\n      <td>Southwest Georgia Regional Airport</td>\n      <td>Albany</td>\n      <td>GA</td>\n      <td>USA</td>\n      <td>31.53552</td>\n      <td>-84.19447</td>\n    </tr>\n    <tr>\n      <th>...</th>\n      <td>...</td>\n      <td>...</td>\n      <td>...</td>\n      <td>...</td>\n      <td>...</td>\n      <td>...</td>\n      <td>...</td>\n    </tr>\n    <tr>\n      <th>317</th>\n      <td>WRG</td>\n      <td>Wrangell Airport</td>\n      <td>Wrangell</td>\n      <td>AK</td>\n      <td>USA</td>\n      <td>56.48433</td>\n      <td>-132.36982</td>\n    </tr>\n    <tr>\n      <th>318</th>\n      <td>WYS</td>\n      <td>Westerly State Airport</td>\n      <td>West Yellowstone</td>\n      <td>MT</td>\n      <td>USA</td>\n      <td>44.68840</td>\n      <td>-111.11764</td>\n    </tr>\n    <tr>\n      <th>319</th>\n      <td>XNA</td>\n      <td>Northwest Arkansas Regional Airport</td>\n      <td>Fayetteville/Springdale/Rogers</td>\n      <td>AR</td>\n      <td>USA</td>\n      <td>36.28187</td>\n      <td>-94.30681</td>\n    </tr>\n    <tr>\n      <th>320</th>\n      <td>YAK</td>\n      <td>Yakutat Airport</td>\n      <td>Yakutat</td>\n      <td>AK</td>\n      <td>USA</td>\n      <td>59.50336</td>\n      <td>-139.66023</td>\n    </tr>\n    <tr>\n      <th>321</th>\n      <td>YUM</td>\n      <td>Yuma International Airport</td>\n      <td>Yuma</td>\n      <td>AZ</td>\n      <td>USA</td>\n      <td>32.65658</td>\n      <td>-114.60597</td>\n    </tr>\n  </tbody>\n</table>\n<p>322 rows × 7 columns</p>\n</div>"
     },
     "metadata": {},
     "output_type": "display_data"
    },
    {
     "data": {
      "text/plain": "         YEAR  MONTH  DAY  DAY_OF_WEEK AIRLINE  FLIGHT_NUMBER TAIL_NUMBER  \\\n0        2015      1    1            4      AS             98      N407AS   \n1        2015      1    1            4      AA           2336      N3KUAA   \n2        2015      1    1            4      US            840      N171US   \n3        2015      1    1            4      AA            258      N3HYAA   \n4        2015      1    1            4      AS            135      N527AS   \n...       ...    ...  ...          ...     ...            ...         ...   \n5819074  2015     12   31            4      B6            688      N657JB   \n5819075  2015     12   31            4      B6            745      N828JB   \n5819076  2015     12   31            4      B6           1503      N913JB   \n5819077  2015     12   31            4      B6            333      N527JB   \n5819078  2015     12   31            4      B6            839      N534JB   \n\n        ORIGIN_AIRPORT DESTINATION_AIRPORT  SCHEDULED_DEPARTURE  ...  \\\n0                  ANC                 SEA                    5  ...   \n1                  LAX                 PBI                   10  ...   \n2                  SFO                 CLT                   20  ...   \n3                  LAX                 MIA                   20  ...   \n4                  SEA                 ANC                   25  ...   \n...                ...                 ...                  ...  ...   \n5819074            LAX                 BOS                 2359  ...   \n5819075            JFK                 PSE                 2359  ...   \n5819076            JFK                 SJU                 2359  ...   \n5819077            MCO                 SJU                 2359  ...   \n5819078            JFK                 BQN                 2359  ...   \n\n         ARRIVAL_TIME  ARRIVAL_DELAY  DIVERTED  CANCELLED  \\\n0               408.0          -22.0         0          0   \n1               741.0           -9.0         0          0   \n2               811.0            5.0         0          0   \n3               756.0           -9.0         0          0   \n4               259.0          -21.0         0          0   \n...               ...            ...       ...        ...   \n5819074         753.0          -26.0         0          0   \n5819075         430.0          -16.0         0          0   \n5819076         432.0           -8.0         0          0   \n5819077         330.0          -10.0         0          0   \n5819078         442.0            2.0         0          0   \n\n         CANCELLATION_REASON  AIR_SYSTEM_DELAY  SECURITY_DELAY  AIRLINE_DELAY  \\\n0                        NaN               NaN             NaN            NaN   \n1                        NaN               NaN             NaN            NaN   \n2                        NaN               NaN             NaN            NaN   \n3                        NaN               NaN             NaN            NaN   \n4                        NaN               NaN             NaN            NaN   \n...                      ...               ...             ...            ...   \n5819074                  NaN               NaN             NaN            NaN   \n5819075                  NaN               NaN             NaN            NaN   \n5819076                  NaN               NaN             NaN            NaN   \n5819077                  NaN               NaN             NaN            NaN   \n5819078                  NaN               NaN             NaN            NaN   \n\n         LATE_AIRCRAFT_DELAY  WEATHER_DELAY  \n0                        NaN            NaN  \n1                        NaN            NaN  \n2                        NaN            NaN  \n3                        NaN            NaN  \n4                        NaN            NaN  \n...                      ...            ...  \n5819074                  NaN            NaN  \n5819075                  NaN            NaN  \n5819076                  NaN            NaN  \n5819077                  NaN            NaN  \n5819078                  NaN            NaN  \n\n[5819079 rows x 31 columns]",
      "text/html": "<div>\n<style scoped>\n    .dataframe tbody tr th:only-of-type {\n        vertical-align: middle;\n    }\n\n    .dataframe tbody tr th {\n        vertical-align: top;\n    }\n\n    .dataframe thead th {\n        text-align: right;\n    }\n</style>\n<table border=\"1\" class=\"dataframe\">\n  <thead>\n    <tr style=\"text-align: right;\">\n      <th></th>\n      <th>YEAR</th>\n      <th>MONTH</th>\n      <th>DAY</th>\n      <th>DAY_OF_WEEK</th>\n      <th>AIRLINE</th>\n      <th>FLIGHT_NUMBER</th>\n      <th>TAIL_NUMBER</th>\n      <th>ORIGIN_AIRPORT</th>\n      <th>DESTINATION_AIRPORT</th>\n      <th>SCHEDULED_DEPARTURE</th>\n      <th>...</th>\n      <th>ARRIVAL_TIME</th>\n      <th>ARRIVAL_DELAY</th>\n      <th>DIVERTED</th>\n      <th>CANCELLED</th>\n      <th>CANCELLATION_REASON</th>\n      <th>AIR_SYSTEM_DELAY</th>\n      <th>SECURITY_DELAY</th>\n      <th>AIRLINE_DELAY</th>\n      <th>LATE_AIRCRAFT_DELAY</th>\n      <th>WEATHER_DELAY</th>\n    </tr>\n  </thead>\n  <tbody>\n    <tr>\n      <th>0</th>\n      <td>2015</td>\n      <td>1</td>\n      <td>1</td>\n      <td>4</td>\n      <td>AS</td>\n      <td>98</td>\n      <td>N407AS</td>\n      <td>ANC</td>\n      <td>SEA</td>\n      <td>5</td>\n      <td>...</td>\n      <td>408.0</td>\n      <td>-22.0</td>\n      <td>0</td>\n      <td>0</td>\n      <td>NaN</td>\n      <td>NaN</td>\n      <td>NaN</td>\n      <td>NaN</td>\n      <td>NaN</td>\n      <td>NaN</td>\n    </tr>\n    <tr>\n      <th>1</th>\n      <td>2015</td>\n      <td>1</td>\n      <td>1</td>\n      <td>4</td>\n      <td>AA</td>\n      <td>2336</td>\n      <td>N3KUAA</td>\n      <td>LAX</td>\n      <td>PBI</td>\n      <td>10</td>\n      <td>...</td>\n      <td>741.0</td>\n      <td>-9.0</td>\n      <td>0</td>\n      <td>0</td>\n      <td>NaN</td>\n      <td>NaN</td>\n      <td>NaN</td>\n      <td>NaN</td>\n      <td>NaN</td>\n      <td>NaN</td>\n    </tr>\n    <tr>\n      <th>2</th>\n      <td>2015</td>\n      <td>1</td>\n      <td>1</td>\n      <td>4</td>\n      <td>US</td>\n      <td>840</td>\n      <td>N171US</td>\n      <td>SFO</td>\n      <td>CLT</td>\n      <td>20</td>\n      <td>...</td>\n      <td>811.0</td>\n      <td>5.0</td>\n      <td>0</td>\n      <td>0</td>\n      <td>NaN</td>\n      <td>NaN</td>\n      <td>NaN</td>\n      <td>NaN</td>\n      <td>NaN</td>\n      <td>NaN</td>\n    </tr>\n    <tr>\n      <th>3</th>\n      <td>2015</td>\n      <td>1</td>\n      <td>1</td>\n      <td>4</td>\n      <td>AA</td>\n      <td>258</td>\n      <td>N3HYAA</td>\n      <td>LAX</td>\n      <td>MIA</td>\n      <td>20</td>\n      <td>...</td>\n      <td>756.0</td>\n      <td>-9.0</td>\n      <td>0</td>\n      <td>0</td>\n      <td>NaN</td>\n      <td>NaN</td>\n      <td>NaN</td>\n      <td>NaN</td>\n      <td>NaN</td>\n      <td>NaN</td>\n    </tr>\n    <tr>\n      <th>4</th>\n      <td>2015</td>\n      <td>1</td>\n      <td>1</td>\n      <td>4</td>\n      <td>AS</td>\n      <td>135</td>\n      <td>N527AS</td>\n      <td>SEA</td>\n      <td>ANC</td>\n      <td>25</td>\n      <td>...</td>\n      <td>259.0</td>\n      <td>-21.0</td>\n      <td>0</td>\n      <td>0</td>\n      <td>NaN</td>\n      <td>NaN</td>\n      <td>NaN</td>\n      <td>NaN</td>\n      <td>NaN</td>\n      <td>NaN</td>\n    </tr>\n    <tr>\n      <th>...</th>\n      <td>...</td>\n      <td>...</td>\n      <td>...</td>\n      <td>...</td>\n      <td>...</td>\n      <td>...</td>\n      <td>...</td>\n      <td>...</td>\n      <td>...</td>\n      <td>...</td>\n      <td>...</td>\n      <td>...</td>\n      <td>...</td>\n      <td>...</td>\n      <td>...</td>\n      <td>...</td>\n      <td>...</td>\n      <td>...</td>\n      <td>...</td>\n      <td>...</td>\n      <td>...</td>\n    </tr>\n    <tr>\n      <th>5819074</th>\n      <td>2015</td>\n      <td>12</td>\n      <td>31</td>\n      <td>4</td>\n      <td>B6</td>\n      <td>688</td>\n      <td>N657JB</td>\n      <td>LAX</td>\n      <td>BOS</td>\n      <td>2359</td>\n      <td>...</td>\n      <td>753.0</td>\n      <td>-26.0</td>\n      <td>0</td>\n      <td>0</td>\n      <td>NaN</td>\n      <td>NaN</td>\n      <td>NaN</td>\n      <td>NaN</td>\n      <td>NaN</td>\n      <td>NaN</td>\n    </tr>\n    <tr>\n      <th>5819075</th>\n      <td>2015</td>\n      <td>12</td>\n      <td>31</td>\n      <td>4</td>\n      <td>B6</td>\n      <td>745</td>\n      <td>N828JB</td>\n      <td>JFK</td>\n      <td>PSE</td>\n      <td>2359</td>\n      <td>...</td>\n      <td>430.0</td>\n      <td>-16.0</td>\n      <td>0</td>\n      <td>0</td>\n      <td>NaN</td>\n      <td>NaN</td>\n      <td>NaN</td>\n      <td>NaN</td>\n      <td>NaN</td>\n      <td>NaN</td>\n    </tr>\n    <tr>\n      <th>5819076</th>\n      <td>2015</td>\n      <td>12</td>\n      <td>31</td>\n      <td>4</td>\n      <td>B6</td>\n      <td>1503</td>\n      <td>N913JB</td>\n      <td>JFK</td>\n      <td>SJU</td>\n      <td>2359</td>\n      <td>...</td>\n      <td>432.0</td>\n      <td>-8.0</td>\n      <td>0</td>\n      <td>0</td>\n      <td>NaN</td>\n      <td>NaN</td>\n      <td>NaN</td>\n      <td>NaN</td>\n      <td>NaN</td>\n      <td>NaN</td>\n    </tr>\n    <tr>\n      <th>5819077</th>\n      <td>2015</td>\n      <td>12</td>\n      <td>31</td>\n      <td>4</td>\n      <td>B6</td>\n      <td>333</td>\n      <td>N527JB</td>\n      <td>MCO</td>\n      <td>SJU</td>\n      <td>2359</td>\n      <td>...</td>\n      <td>330.0</td>\n      <td>-10.0</td>\n      <td>0</td>\n      <td>0</td>\n      <td>NaN</td>\n      <td>NaN</td>\n      <td>NaN</td>\n      <td>NaN</td>\n      <td>NaN</td>\n      <td>NaN</td>\n    </tr>\n    <tr>\n      <th>5819078</th>\n      <td>2015</td>\n      <td>12</td>\n      <td>31</td>\n      <td>4</td>\n      <td>B6</td>\n      <td>839</td>\n      <td>N534JB</td>\n      <td>JFK</td>\n      <td>BQN</td>\n      <td>2359</td>\n      <td>...</td>\n      <td>442.0</td>\n      <td>2.0</td>\n      <td>0</td>\n      <td>0</td>\n      <td>NaN</td>\n      <td>NaN</td>\n      <td>NaN</td>\n      <td>NaN</td>\n      <td>NaN</td>\n      <td>NaN</td>\n    </tr>\n  </tbody>\n</table>\n<p>5819079 rows × 31 columns</p>\n</div>"
     },
     "metadata": {},
     "output_type": "display_data"
    }
   ],
   "source": [
    "import  pandas as pd\n",
    "import  numpy as np\n",
    "\n",
    "airlines = pd.read_csv(\"airlines.csv\")\n",
    "airports = pd.read_csv(\"airports.csv\")\n",
    "flights = pd.read_csv(\"flights.csv\")\n",
    "\n",
    "display(airlines)\n",
    "display(airports)\n",
    "display(flights)"
   ],
   "metadata": {
    "collapsed": false
   }
  },
  {
   "cell_type": "code",
   "execution_count": null,
   "outputs": [],
   "source": [],
   "metadata": {
    "collapsed": false
   }
  }
 ],
 "metadata": {
  "kernelspec": {
   "display_name": "Python 3",
   "language": "python",
   "name": "python3"
  },
  "language_info": {
   "codemirror_mode": {
    "name": "ipython",
    "version": 2
   },
   "file_extension": ".py",
   "mimetype": "text/x-python",
   "name": "python",
   "nbconvert_exporter": "python",
   "pygments_lexer": "ipython2",
   "version": "2.7.6"
  }
 },
 "nbformat": 4,
 "nbformat_minor": 0
}
